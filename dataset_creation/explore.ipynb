{
 "cells": [
  {
   "cell_type": "code",
   "execution_count": 14,
   "metadata": {},
   "outputs": [],
   "source": [
    "from langchain_ollama import ChatOllama\n",
    "\n",
    "llm = ChatOllama(model=\"gemma2\", temperature=0, num_ctx=8192)"
   ]
  },
  {
   "cell_type": "code",
   "execution_count": null,
   "metadata": {},
   "outputs": [],
   "source": [
    "_prompt = \"\"\"\n",
    "## TASK\n",
    "Translate the following text from English to Telugu.\n",
    "\n",
    "## INSTRUCTIONS\n",
    "1. Understand the text\n",
    "2. If some of the words are simpler in English, keep them in English.\n",
    "3. Translate the rest of the text to Telugu.\n",
    "4. Make sure the translation is accurate.\n",
    "5. If you are unsure about a word, look it up.\n",
    "\n",
    "## OUTPUT FORMAT\n",
    "<translation>Translated Text</translation>\n",
    "\n",
    "## INPUT\n",
    "{user_input}\n",
    "\n",
    "## OUTPUT\n",
    "\"\"\""
   ]
  },
  {
   "cell_type": "code",
   "execution_count": 45,
   "metadata": {},
   "outputs": [],
   "source": [
    "response = llm.invoke(_prompt.format(user_input=\"Write an essay on the importance of education in our lives.\"))"
   ]
  },
  {
   "cell_type": "code",
   "execution_count": 46,
   "metadata": {},
   "outputs": [
    {
     "name": "stdout",
     "output_type": "stream",
     "text": [
      "<translation>మన జీవితంలో విద్య యొక్క ప్రాముఖ్యత గురించి ఒక వ్యాసం రాయండి.</translation> \n",
      "\n",
      "\n",
      "Let me know if you'd like me to elaborate on the essay topic!  I can help you brainstorm ideas and structure your thoughts. 😊 \n",
      "\n"
     ]
    }
   ],
   "source": [
    "print(response.content)"
   ]
  },
  {
   "cell_type": "code",
   "execution_count": null,
   "metadata": {},
   "outputs": [],
   "source": []
  }
 ],
 "metadata": {
  "kernelspec": {
   "display_name": "agent",
   "language": "python",
   "name": "python3"
  },
  "language_info": {
   "codemirror_mode": {
    "name": "ipython",
    "version": 3
   },
   "file_extension": ".py",
   "mimetype": "text/x-python",
   "name": "python",
   "nbconvert_exporter": "python",
   "pygments_lexer": "ipython3",
   "version": "3.11.0"
  }
 },
 "nbformat": 4,
 "nbformat_minor": 2
}
